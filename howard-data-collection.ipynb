{
 "cells": [
  {
   "cell_type": "code",
   "execution_count": null,
   "id": "8e048057-60bf-4a68-a961-9ee7e4b8aca3",
   "metadata": {
    "tags": []
   },
   "outputs": [],
   "source": [
    "from bs4 import BeautifulSoup\n",
    "import requests\n",
    "import pandas as pd\n",
    "import re\n",
    "import numpy as np"
   ]
  },
  {
   "cell_type": "code",
   "execution_count": null,
   "id": "60f43364-9bff-4933-a221-779bb50febd5",
   "metadata": {
    "tags": []
   },
   "outputs": [],
   "source": [
    "url = 'https://www.howardcountymd.gov/police/newsroom'\n",
    "soup = BeautifulSoup(requests.get(url).text, \"html.parser\")"
   ]
  },
  {
   "cell_type": "code",
   "execution_count": null,
   "id": "236305b5-46a0-4b6f-84f2-986efc87de35",
   "metadata": {
    "tags": []
   },
   "outputs": [],
   "source": [
    "def get_parced_data(raw):\n",
    "    if raw.find_all(\"div\", {\"id\": \"daily-crime-bulletin\"}):\n",
    "        if raw.find_all(\"div\", {\"class\": \"paragraph--accordion__title\"}):\n",
    "            if raw.find_all(\"div\", {\"class\": \"field__item\"}):\n",
    "                return raw.find_all(\"div\", {\"class\": \"field__item\"})"
   ]
  },
  {
   "cell_type": "code",
   "execution_count": null,
   "id": "c0052150-48e5-4033-8940-438025d01f82",
   "metadata": {
    "tags": []
   },
   "outputs": [],
   "source": [
    "parced_data = get_parced_data(soup)\n",
    "crimes = [] \n",
    "\n",
    "for child in parced_data:\n",
    "    if(child.find('h2')):\n",
    "        crimes.append(child)"
   ]
  },
  {
   "cell_type": "code",
   "execution_count": null,
   "id": "7cc7673c-ca46-4948-bebd-41dcfa0cfd6f",
   "metadata": {},
   "outputs": [],
   "source": [
    "# crimes[0]"
   ]
  },
  {
   "cell_type": "code",
   "execution_count": null,
   "id": "1702632d-59ff-4f8b-b0b6-ba37dc61fb1c",
   "metadata": {
    "tags": []
   },
   "outputs": [],
   "source": [
    "crimes_by_date = pd.DataFrame(columns=['publish_date','category','raw_crimes'])\n",
    "for x in crimes:\n",
    "    publish_date = x.find(\"h2\").text.split(',',1)[1]\n",
    "    raw_crimes = x.find_all(\"p\")\n",
    "    for c in raw_crimes:\n",
    "        if c.find(\"u\"):\n",
    "            for cat in c.find_all(\"u\"):\n",
    "                category = 'cat.text'\n",
    "                crimes_by_date.loc[len(crimes_by_date.index)] = [publish_date, category, raw_crimes] "
   ]
  },
  {
   "cell_type": "code",
   "execution_count": null,
   "id": "5df15bd1-bb84-4b10-98d2-082bd62a61ef",
   "metadata": {},
   "outputs": [],
   "source": [
    "# regex \n",
    "cat_regex = re.compile(r'<p><strong><u>(?P<cat>[a-zA-Z \\/-]*)<\\/u><br\\/>')\n",
    "city_regex = re.compile(r'(?P<city>[a-zA-z ]*),\\s\\d{5}')\n",
    "zip_regex = re.compile(r'[a-zA-z ]*,\\s(?P<zip>\\d{5}):')\n",
    "date_regex = re.compile(r'(?P<date>\\w+\\.?\\s\\d+-?\\d*)')\n",
    "time_regex = re.compile(r'\\s(?P<time>\\d{1,2}:\\d{1,2}\\s*[a.mp]*)')\n",
    "street_regex = re.compile(r':\\s?<\\/strong>(?P<street>.*),\\s?(March|Feb.|February)?')\n",
    "notes_time_regex = re.compile(r':\\d{1,2}\\s*[a.mp]*<br\\/>\\s(.*)<')\n",
    "notes_date_regex = re.compile(r'\\w+\\.?\\s\\d+-?\\d*.*,\\s(.*)<')"
   ]
  },
  {
   "cell_type": "code",
   "execution_count": null,
   "id": "0ea73c07-00ab-4d3a-aacd-ceb0f5144b0b",
   "metadata": {},
   "outputs": [],
   "source": [
    "by_crime_df = pd.DataFrame(columns=['publish_date', 'category', 'city', 'zip_code', 'street', 'crime_date', 'crime_time', 'add_notes'])\n",
    "\n",
    "def by_crime(x):\n",
    "    for c in x['raw_crimes']:\n",
    "        cat = np.NaN\n",
    "        street = np.NaN\n",
    "        crime_date = np.NaN\n",
    "        crime_time = np.NaN\n",
    "        add_notes = np.NaN\n",
    "        \n",
    "        if cat_regex.findall(str(c)):\n",
    "            cat = cat_regex.findall(str(c))[0]\n",
    "        if city_regex.findall(str(c)):\n",
    "            city = city_regex.findall(str(c))[0]\n",
    "        if zip_regex.findall(str(c)):\n",
    "            zip_code = zip_regex.findall(str(c))[0]\n",
    "        # Fetch Street\n",
    "        if street_regex.findall(str(c)):\n",
    "            street = street_regex.findall(str(c))[0][0]\n",
    "        if 'March' in street:\n",
    "            street = street.split('March')[0]\n",
    "        if 'Feb.' in street:\n",
    "            street = street.split('Feb.')[0]\n",
    "        if 'Feburary' in street:\n",
    "            street = street.split('Feburary')[0]\n",
    "        if date_regex.findall(str(c)):\n",
    "            crime_date = date_regex.findall(str(c))[0]\n",
    "        if time_regex.findall(str(c)):\n",
    "            crime_time = time_regex.findall(str(c))[0]\n",
    "        if notes_time_regex.findall(str(c)):\n",
    "            add_notes = notes_time_regex.findall(str(c))[0]\n",
    "#         if add_notes.isnull():\n",
    "#             add_notes = notes_date_regex.findall(str(c))[0]\n",
    "        by_crime_df.loc[len(by_crime_df.index)] = [x['publish_date'], cat, city, zip_code, street, crime_date, crime_time, add_notes]                    "
   ]
  },
  {
   "cell_type": "code",
   "execution_count": null,
   "id": "69d39d07-7007-449d-985f-b8e3ecb5ed8d",
   "metadata": {},
   "outputs": [],
   "source": [
    "crimes_by_date.apply(by_crime,axis = 1)\n",
    "by_crime_df['category'].fillna(method='ffill',inplace = True)\n",
    "by_crime_df.drop_duplicates(inplace = True)\n",
    "by_crime_df.reset_index(drop=True)"
   ]
  },
  {
   "cell_type": "code",
   "execution_count": null,
   "id": "39713752-30de-4717-bc2a-12b4582a3e06",
   "metadata": {},
   "outputs": [],
   "source": [
    "by_crime_df['add_notes'].isnull().sum()"
   ]
  },
  {
   "cell_type": "code",
   "execution_count": null,
   "id": "2416737c-e721-49b0-80a7-4dc80a01db88",
   "metadata": {},
   "outputs": [],
   "source": [
    "by_crime_df.to_excel('data/howard-daily-crime-bulletin.xlsx', index=False)"
   ]
  }
 ],
 "metadata": {
  "kernelspec": {
   "display_name": "Python 3",
   "language": "python",
   "name": "python3"
  },
  "language_info": {
   "codemirror_mode": {
    "name": "ipython",
    "version": 3
   },
   "file_extension": ".py",
   "mimetype": "text/x-python",
   "name": "python",
   "nbconvert_exporter": "python",
   "pygments_lexer": "ipython3",
   "version": "3.8.8"
  }
 },
 "nbformat": 4,
 "nbformat_minor": 5
}
